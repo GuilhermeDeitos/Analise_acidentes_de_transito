{
  "nbformat": 4,
  "nbformat_minor": 0,
  "metadata": {
    "kernelspec": {
      "display_name": "Python 3",
      "language": "python",
      "name": "python3"
    },
    "language_info": {
      "codemirror_mode": {
        "name": "ipython",
        "version": 3
      },
      "file_extension": ".py",
      "mimetype": "text/x-python",
      "name": "python",
      "nbconvert_exporter": "python",
      "pygments_lexer": "ipython3",
      "version": "3.6.8"
    },
    "colab": {
      "name": "Guilherme Augusto Deitos Alves - T1_2-TEI_TINF3.ipynb",
      "provenance": []
    }
  },
  "cells": [
    {
      "cell_type": "markdown",
      "metadata": {
        "id": "sYuT1UHtznRS"
      },
      "source": [
        "# Trabalho T1-2"
      ]
    },
    {
      "cell_type": "markdown",
      "metadata": {
        "id": "bgdTiCRzznRV"
      },
      "source": [
        "Responda as questões elencadas abaixo utilizando a linguagem de programação Python e as bibliotecas Pandas, Matplotlib e Seaborn.\n",
        "\n",
        "Este trabalho consiste em realizar uma análise sobre dados de ocorrências de acidentes de trânsito, ocorridas no ano de 2018. A atividade deve ser entregue com o código **executado**, de maneira que possa ser observada a saída obtida pelo código desenvolvido.\n",
        "\n",
        "A fonte dos dados e especificações podem ser consultados no portal da Polícia Rodoviária Federal, disponível [aqui](https://portal.prf.gov.br/dados-abertos)."
      ]
    },
    {
      "cell_type": "markdown",
      "metadata": {
        "id": "AuO3bkmLznRV"
      },
      "source": [
        "**Dicas**\n",
        "- Assim como nos DataFrames, nas Series tamém é possível utilizar a função `.head()`.\n",
        "- A função `.value_counts()` retorna os valores ordenados por quantidade, em ordem decrescente.\n",
        "- Com a função `.value_counts()` também é possível gerar gráficos, p.ex. `.value_counts().plot()` ou `.value_counts().plot.bar()`."
      ]
    },
    {
      "cell_type": "code",
      "metadata": {
        "id": "zdmssEKAznRW"
      },
      "source": [
        "import pandas as pd\n",
        "import numpy as np\n",
        "import matplotlib.pyplot as plt\n",
        "import seaborn as sns"
      ],
      "execution_count": 5,
      "outputs": []
    },
    {
      "cell_type": "code",
      "metadata": {
        "id": "shtgoGwLznRW",
        "colab": {
          "base_uri": "https://localhost:8080/"
        },
        "outputId": "b88d176c-3f59-4aba-edae-3c2a794bb2f7"
      },
      "source": [
        "########################\n",
        "#Leitura da base no diretório local (Jupyter)\n",
        "########################\n",
        "# df = pd.read_csv('./bases/datatran2018.csv', sep=';', encoding='latin-1') # Carrega a base\n",
        "\n",
        "########################\n",
        "#Leitura da base no Google Drive (Colaboratory)\n",
        "########################\n",
        "from google.colab import drive\n",
        "drive.mount('/drive') #monta a base no google drive\n",
        "database_path = '/drive/Shareddrives/BasesPublicas/Bases/PRF/datatran2018.csv' #caminho da base de dados\n",
        "df = pd.read_csv(database_path, sep=';', encoding='latin-1') #Carrega a base"
      ],
      "execution_count": 18,
      "outputs": [
        {
          "output_type": "stream",
          "text": [
            "Drive already mounted at /drive; to attempt to forcibly remount, call drive.mount(\"/drive\", force_remount=True).\n"
          ],
          "name": "stdout"
        }
      ]
    },
    {
      "cell_type": "code",
      "metadata": {
        "id": "uzeB25AXznRX",
        "colab": {
          "base_uri": "https://localhost:8080/"
        },
        "outputId": "84574059-d659-4d79-e857-41117d36c3cb"
      },
      "source": [
        "df.shape #Mostra o número de linhas e colunas na base"
      ],
      "execution_count": null,
      "outputs": [
        {
          "output_type": "execute_result",
          "data": {
            "text/plain": [
              "(69295, 30)"
            ]
          },
          "metadata": {
            "tags": []
          },
          "execution_count": 6
        }
      ]
    },
    {
      "cell_type": "code",
      "metadata": {
        "id": "bjaJ70V10HSF",
        "colab": {
          "base_uri": "https://localhost:8080/"
        },
        "outputId": "ec5a2a0c-aba9-4c85-e275-f949ed59189e"
      },
      "source": [
        "df.info() #Mostra informações sobre a base"
      ],
      "execution_count": null,
      "outputs": [
        {
          "output_type": "stream",
          "text": [
            "<class 'pandas.core.frame.DataFrame'>\n",
            "RangeIndex: 69295 entries, 0 to 69294\n",
            "Data columns (total 30 columns):\n",
            " #   Column                  Non-Null Count  Dtype  \n",
            "---  ------                  --------------  -----  \n",
            " 0   id                      69295 non-null  float64\n",
            " 1   data_inversa            69295 non-null  object \n",
            " 2   dia_semana              69295 non-null  object \n",
            " 3   horario                 69295 non-null  object \n",
            " 4   uf                      69295 non-null  object \n",
            " 5   br                      69181 non-null  float64\n",
            " 6   km                      69181 non-null  object \n",
            " 7   municipio               69295 non-null  object \n",
            " 8   causa_acidente          69295 non-null  object \n",
            " 9   tipo_acidente           69295 non-null  object \n",
            " 10  classificacao_acidente  69295 non-null  object \n",
            " 11  fase_dia                69295 non-null  object \n",
            " 12  sentido_via             69295 non-null  object \n",
            " 13  condicao_metereologica  69295 non-null  object \n",
            " 14  tipo_pista              69295 non-null  object \n",
            " 15  tracado_via             69295 non-null  object \n",
            " 16  uso_solo                69295 non-null  object \n",
            " 17  pessoas                 69295 non-null  int64  \n",
            " 18  mortos                  69295 non-null  int64  \n",
            " 19  feridos_leves           69295 non-null  int64  \n",
            " 20  feridos_graves          69295 non-null  int64  \n",
            " 21  ilesos                  69295 non-null  int64  \n",
            " 22  ignorados               69295 non-null  int64  \n",
            " 23  feridos                 69295 non-null  int64  \n",
            " 24  veiculos                69295 non-null  int64  \n",
            " 25  latitude                69295 non-null  object \n",
            " 26  longitude               69295 non-null  object \n",
            " 27  regional                69295 non-null  object \n",
            " 28  delegacia               69295 non-null  object \n",
            " 29  uop                     66040 non-null  object \n",
            "dtypes: float64(2), int64(8), object(20)\n",
            "memory usage: 15.9+ MB\n"
          ],
          "name": "stdout"
        }
      ]
    },
    {
      "cell_type": "code",
      "metadata": {
        "id": "fQ_AildcznRX",
        "colab": {
          "base_uri": "https://localhost:8080/",
          "height": 322
        },
        "outputId": "5addfbe3-0dd2-432a-a0e9-d74da82c8a4d"
      },
      "source": [
        "df.head(5) #Observa as primeiras linhas da base"
      ],
      "execution_count": null,
      "outputs": [
        {
          "output_type": "execute_result",
          "data": {
            "text/html": [
              "<div>\n",
              "<style scoped>\n",
              "    .dataframe tbody tr th:only-of-type {\n",
              "        vertical-align: middle;\n",
              "    }\n",
              "\n",
              "    .dataframe tbody tr th {\n",
              "        vertical-align: top;\n",
              "    }\n",
              "\n",
              "    .dataframe thead th {\n",
              "        text-align: right;\n",
              "    }\n",
              "</style>\n",
              "<table border=\"1\" class=\"dataframe\">\n",
              "  <thead>\n",
              "    <tr style=\"text-align: right;\">\n",
              "      <th></th>\n",
              "      <th>id</th>\n",
              "      <th>data_inversa</th>\n",
              "      <th>dia_semana</th>\n",
              "      <th>horario</th>\n",
              "      <th>uf</th>\n",
              "      <th>br</th>\n",
              "      <th>km</th>\n",
              "      <th>municipio</th>\n",
              "      <th>causa_acidente</th>\n",
              "      <th>tipo_acidente</th>\n",
              "      <th>classificacao_acidente</th>\n",
              "      <th>fase_dia</th>\n",
              "      <th>sentido_via</th>\n",
              "      <th>condicao_metereologica</th>\n",
              "      <th>tipo_pista</th>\n",
              "      <th>tracado_via</th>\n",
              "      <th>uso_solo</th>\n",
              "      <th>pessoas</th>\n",
              "      <th>mortos</th>\n",
              "      <th>feridos_leves</th>\n",
              "      <th>feridos_graves</th>\n",
              "      <th>ilesos</th>\n",
              "      <th>ignorados</th>\n",
              "      <th>feridos</th>\n",
              "      <th>veiculos</th>\n",
              "      <th>latitude</th>\n",
              "      <th>longitude</th>\n",
              "      <th>regional</th>\n",
              "      <th>delegacia</th>\n",
              "      <th>uop</th>\n",
              "    </tr>\n",
              "  </thead>\n",
              "  <tbody>\n",
              "    <tr>\n",
              "      <th>0</th>\n",
              "      <td>99973.0</td>\n",
              "      <td>2018-01-01</td>\n",
              "      <td>segunda-feira</td>\n",
              "      <td>00:20:00</td>\n",
              "      <td>RJ</td>\n",
              "      <td>116.0</td>\n",
              "      <td>303,5</td>\n",
              "      <td>RESENDE</td>\n",
              "      <td>Condutor Dormindo</td>\n",
              "      <td>Saída de leito carroçável</td>\n",
              "      <td>Com Vítimas Feridas</td>\n",
              "      <td>Plena Noite</td>\n",
              "      <td>Decrescente</td>\n",
              "      <td>Nublado</td>\n",
              "      <td>Múltipla</td>\n",
              "      <td>Reta</td>\n",
              "      <td>Sim</td>\n",
              "      <td>5</td>\n",
              "      <td>0</td>\n",
              "      <td>0</td>\n",
              "      <td>4</td>\n",
              "      <td>1</td>\n",
              "      <td>0</td>\n",
              "      <td>4</td>\n",
              "      <td>1</td>\n",
              "      <td>-22,46937</td>\n",
              "      <td>-44,44705</td>\n",
              "      <td>SR-RJ</td>\n",
              "      <td>DEL5/7</td>\n",
              "      <td>UOP03/RJ</td>\n",
              "    </tr>\n",
              "    <tr>\n",
              "      <th>1</th>\n",
              "      <td>99976.0</td>\n",
              "      <td>2018-01-01</td>\n",
              "      <td>segunda-feira</td>\n",
              "      <td>00:40:00</td>\n",
              "      <td>SC</td>\n",
              "      <td>282.0</td>\n",
              "      <td>0,4</td>\n",
              "      <td>FLORIANOPOLIS</td>\n",
              "      <td>Não guardar distância de segurança</td>\n",
              "      <td>Colisão traseira</td>\n",
              "      <td>Com Vítimas Feridas</td>\n",
              "      <td>Plena Noite</td>\n",
              "      <td>Crescente</td>\n",
              "      <td>Céu Claro</td>\n",
              "      <td>Dupla</td>\n",
              "      <td>Reta</td>\n",
              "      <td>Sim</td>\n",
              "      <td>3</td>\n",
              "      <td>0</td>\n",
              "      <td>0</td>\n",
              "      <td>2</td>\n",
              "      <td>1</td>\n",
              "      <td>0</td>\n",
              "      <td>2</td>\n",
              "      <td>2</td>\n",
              "      <td>-27,59971687</td>\n",
              "      <td>-48,57565694</td>\n",
              "      <td>SR-SC</td>\n",
              "      <td>DEL8/1</td>\n",
              "      <td>UOP01/SC</td>\n",
              "    </tr>\n",
              "    <tr>\n",
              "      <th>2</th>\n",
              "      <td>99977.0</td>\n",
              "      <td>2018-01-01</td>\n",
              "      <td>segunda-feira</td>\n",
              "      <td>00:30:00</td>\n",
              "      <td>RJ</td>\n",
              "      <td>493.0</td>\n",
              "      <td>1</td>\n",
              "      <td>ITABORAI</td>\n",
              "      <td>Ultrapassagem Indevida</td>\n",
              "      <td>Colisão frontal</td>\n",
              "      <td>Com Vítimas Feridas</td>\n",
              "      <td>Plena Noite</td>\n",
              "      <td>Crescente</td>\n",
              "      <td>Nublado</td>\n",
              "      <td>Simples</td>\n",
              "      <td>Curva</td>\n",
              "      <td>Não</td>\n",
              "      <td>5</td>\n",
              "      <td>0</td>\n",
              "      <td>1</td>\n",
              "      <td>0</td>\n",
              "      <td>3</td>\n",
              "      <td>1</td>\n",
              "      <td>1</td>\n",
              "      <td>3</td>\n",
              "      <td>-22,763901</td>\n",
              "      <td>-42,927532</td>\n",
              "      <td>SR-RJ</td>\n",
              "      <td>DEL5/4</td>\n",
              "      <td>UOP02/RJ</td>\n",
              "    </tr>\n",
              "    <tr>\n",
              "      <th>3</th>\n",
              "      <td>99981.0</td>\n",
              "      <td>2018-01-01</td>\n",
              "      <td>segunda-feira</td>\n",
              "      <td>01:15:00</td>\n",
              "      <td>RS</td>\n",
              "      <td>386.0</td>\n",
              "      <td>134</td>\n",
              "      <td>SARANDI</td>\n",
              "      <td>Ingestão de Álcool</td>\n",
              "      <td>Colisão transversal</td>\n",
              "      <td>Sem Vítimas</td>\n",
              "      <td>Pleno dia</td>\n",
              "      <td>Crescente</td>\n",
              "      <td>Céu Claro</td>\n",
              "      <td>Simples</td>\n",
              "      <td>Interseção de vias</td>\n",
              "      <td>Não</td>\n",
              "      <td>2</td>\n",
              "      <td>0</td>\n",
              "      <td>0</td>\n",
              "      <td>0</td>\n",
              "      <td>2</td>\n",
              "      <td>0</td>\n",
              "      <td>0</td>\n",
              "      <td>2</td>\n",
              "      <td>-27,953636</td>\n",
              "      <td>-52,916374</td>\n",
              "      <td>SR-RS</td>\n",
              "      <td>DEL9/14</td>\n",
              "      <td>UOP01/RS</td>\n",
              "    </tr>\n",
              "    <tr>\n",
              "      <th>4</th>\n",
              "      <td>99982.0</td>\n",
              "      <td>2018-01-01</td>\n",
              "      <td>segunda-feira</td>\n",
              "      <td>00:20:00</td>\n",
              "      <td>RS</td>\n",
              "      <td>293.0</td>\n",
              "      <td>151,7</td>\n",
              "      <td>CANDIOTA</td>\n",
              "      <td>Falta de Atenção à Condução</td>\n",
              "      <td>Saída de leito carroçável</td>\n",
              "      <td>Com Vítimas Feridas</td>\n",
              "      <td>Plena Noite</td>\n",
              "      <td>Decrescente</td>\n",
              "      <td>Nublado</td>\n",
              "      <td>Simples</td>\n",
              "      <td>Reta</td>\n",
              "      <td>Não</td>\n",
              "      <td>1</td>\n",
              "      <td>0</td>\n",
              "      <td>0</td>\n",
              "      <td>1</td>\n",
              "      <td>0</td>\n",
              "      <td>0</td>\n",
              "      <td>1</td>\n",
              "      <td>1</td>\n",
              "      <td>-31,395214</td>\n",
              "      <td>-53,78391174</td>\n",
              "      <td>SR-RS</td>\n",
              "      <td>DEL9/11</td>\n",
              "      <td>UOP03/RS</td>\n",
              "    </tr>\n",
              "  </tbody>\n",
              "</table>\n",
              "</div>"
            ],
            "text/plain": [
              "        id data_inversa     dia_semana  ... regional delegacia       uop\n",
              "0  99973.0   2018-01-01  segunda-feira  ...    SR-RJ    DEL5/7  UOP03/RJ\n",
              "1  99976.0   2018-01-01  segunda-feira  ...    SR-SC    DEL8/1  UOP01/SC\n",
              "2  99977.0   2018-01-01  segunda-feira  ...    SR-RJ    DEL5/4  UOP02/RJ\n",
              "3  99981.0   2018-01-01  segunda-feira  ...    SR-RS   DEL9/14  UOP01/RS\n",
              "4  99982.0   2018-01-01  segunda-feira  ...    SR-RS   DEL9/11  UOP03/RS\n",
              "\n",
              "[5 rows x 30 columns]"
            ]
          },
          "metadata": {
            "tags": []
          },
          "execution_count": 8
        }
      ]
    },
    {
      "cell_type": "markdown",
      "metadata": {
        "id": "_7kWZ4KlznRX"
      },
      "source": [
        "**Item 01**  \n",
        "- Qual é o estado que mais teve o maior número de acidentes?"
      ]
    },
    {
      "cell_type": "code",
      "metadata": {
        "id": "cdUe9E_kznRX",
        "colab": {
          "base_uri": "https://localhost:8080/"
        },
        "outputId": "d9b1838e-2d21-4602-e684-c5d5904b7c37"
      },
      "source": [
        "idx = df['uf'].value_counts()\n",
        "print(idx.head(1))"
      ],
      "execution_count": null,
      "outputs": [
        {
          "output_type": "stream",
          "text": [
            "MG    9066\n",
            "Name: uf, dtype: int64\n"
          ],
          "name": "stdout"
        }
      ]
    },
    {
      "cell_type": "markdown",
      "metadata": {
        "id": "0ea-ZKNOznRX"
      },
      "source": [
        "**Item 02**  \n",
        "- Apresente a quantidade de acidentes por dia da semana."
      ]
    },
    {
      "cell_type": "code",
      "metadata": {
        "id": "QpII7z2yznRY",
        "colab": {
          "base_uri": "https://localhost:8080/"
        },
        "outputId": "4b6aacda-f9b1-47fd-91f1-5e42eea4f4ed"
      },
      "source": [
        "df['dia_semana'].value_counts()"
      ],
      "execution_count": null,
      "outputs": [
        {
          "output_type": "execute_result",
          "data": {
            "text/plain": [
              "domingo          11283\n",
              "sábado           11239\n",
              "sexta-feira      10632\n",
              "segunda-feira     9422\n",
              "quinta-feira      9230\n",
              "quarta-feira      8824\n",
              "terça-feira       8665\n",
              "Name: dia_semana, dtype: int64"
            ]
          },
          "metadata": {
            "tags": []
          },
          "execution_count": 125
        }
      ]
    },
    {
      "cell_type": "markdown",
      "metadata": {
        "id": "32fBZXk1znRY"
      },
      "source": [
        "**Item 03**  \n",
        "- Apresente a quantidade de acidentes por estado."
      ]
    },
    {
      "cell_type": "code",
      "metadata": {
        "id": "Zza1bilTznRY",
        "colab": {
          "base_uri": "https://localhost:8080/"
        },
        "outputId": "591347d6-7dd5-4615-dbb9-2418ce090734"
      },
      "source": [
        "print('O numero de acidentes por estado:\\n',df['uf'].value_counts())"
      ],
      "execution_count": null,
      "outputs": [
        {
          "output_type": "stream",
          "text": [
            "O numero de acidentes por estado:\n",
            " MG    9066\n",
            "SC    8497\n",
            "PR    7952\n",
            "RJ    4575\n",
            "SP    4516\n",
            "RS    4445\n",
            "BA    3555\n",
            "GO    3464\n",
            "PE    2715\n",
            "ES    2642\n",
            "MT    2631\n",
            "CE    1697\n",
            "RO    1629\n",
            "PB    1588\n",
            "MS    1530\n",
            "RN    1416\n",
            "PI    1371\n",
            "MA    1272\n",
            "PA    1260\n",
            "DF     867\n",
            "AL     691\n",
            "TO     589\n",
            "SE     559\n",
            "RR     236\n",
            "AC     235\n",
            "AP     173\n",
            "AM     124\n",
            "Name: uf, dtype: int64\n"
          ],
          "name": "stdout"
        }
      ]
    },
    {
      "cell_type": "markdown",
      "metadata": {
        "id": "aibziszmznRY"
      },
      "source": [
        "**Item 04**  \n",
        "- De acordo com a quantidade de acidentes, quais são as 5 rodovias mais perigosas?"
      ]
    },
    {
      "cell_type": "code",
      "metadata": {
        "id": "EsxSN84OznRY",
        "colab": {
          "base_uri": "https://localhost:8080/"
        },
        "outputId": "6a26d41c-0401-4db2-9aa8-7f67195086da"
      },
      "source": [
        "aux = df['br'].value_counts().sort_values()\n",
        "\n",
        "print(\"Nas BRs:\",aux.tail(5))"
      ],
      "execution_count": null,
      "outputs": [
        {
          "output_type": "stream",
          "text": [
            "Nas BRs: 153.0     2834\n",
            "40.0      3220\n",
            "381.0     3550\n",
            "116.0     9972\n",
            "101.0    11212\n",
            "Name: br, dtype: int64\n"
          ],
          "name": "stdout"
        }
      ]
    },
    {
      "cell_type": "markdown",
      "metadata": {
        "id": "xKE9Euo0znRY"
      },
      "source": [
        "**Item 05**  \n",
        "- Considerando apenas acidentes com vítimas fatais, qual rodovia é a mais perigosa?"
      ]
    },
    {
      "cell_type": "code",
      "metadata": {
        "id": "tXWWcUToznRZ",
        "colab": {
          "base_uri": "https://localhost:8080/"
        },
        "outputId": "6789b8a9-e114-48a7-af75-207d26b2c4f0"
      },
      "source": [
        "\n",
        "idx = df['classificacao_acidente'] == 'Com Vítimas Fatais'\n",
        "\n",
        "print(\"Nas BRs:\",df[idx]['br'].value_counts().head(1))\n",
        "\n"
      ],
      "execution_count": null,
      "outputs": [
        {
          "output_type": "stream",
          "text": [
            "Nas BRs: 116.0    582\n",
            "Name: br, dtype: int64\n"
          ],
          "name": "stdout"
        }
      ]
    },
    {
      "cell_type": "markdown",
      "metadata": {
        "id": "j6rzhwWxznRZ"
      },
      "source": [
        "**Item 06**  \n",
        "- No Paraná, quais são as 10 cidades do interior que possuiram o maior número de acidentes?"
      ]
    },
    {
      "cell_type": "code",
      "metadata": {
        "id": "eJVrafyQznRZ",
        "colab": {
          "base_uri": "https://localhost:8080/"
        },
        "outputId": "c024d0c0-6993-42a8-c3ca-2ac41200b187"
      },
      "source": [
        "idx = df['uf'] == 'PR'\n",
        "idy = df['municipio'] != 'CURITIBA' \n",
        "\n",
        "df[idx == idy]['municipio'].value_counts().head(10)"
      ],
      "execution_count": null,
      "outputs": [
        {
          "output_type": "execute_result",
          "data": {
            "text/plain": [
              "SAO JOSE DOS PINHAIS     448\n",
              "MARINGA                  443\n",
              "CASCAVEL                 338\n",
              "FOZ DO IGUACU            299\n",
              "CAMPINA GRANDE DO SUL    285\n",
              "PONTA GROSSA             268\n",
              "PARANAGUA                178\n",
              "APUCARANA                156\n",
              "CAMPO LARGO              153\n",
              "TIJUCAS DO SUL           152\n",
              "Name: municipio, dtype: int64"
            ]
          },
          "metadata": {
            "tags": []
          },
          "execution_count": 100
        }
      ]
    },
    {
      "cell_type": "markdown",
      "metadata": {
        "id": "mxl-_cE4znRZ"
      },
      "source": [
        "**Item 07**  \n",
        "- Os acidentes com vítimas fatais ocorrem em sua maioria em trechos de curvas ou de reta? Apresente um gráfico indicando estes números."
      ]
    },
    {
      "cell_type": "code",
      "metadata": {
        "id": "Fsl2P6p4znRZ",
        "colab": {
          "base_uri": "https://localhost:8080/",
          "height": 816
        },
        "outputId": "21c39419-3a6a-40ad-87e7-351a7f450ce2"
      },
      "source": [
        "idx = df['classificacao_acidente'] == 'Com Vítimas Fatais'\n",
        "x = df[idx]['tracado_via'].value_counts()\n",
        "y = df[idx]['tracado_via'].unique()\n",
        "\n",
        "fig = plt.figure(figsize=(20,20))\n",
        "plt.bar(y,x)\n"
      ],
      "execution_count": 55,
      "outputs": [
        {
          "output_type": "execute_result",
          "data": {
            "text/plain": [
              "<BarContainer object of 10 artists>"
            ]
          },
          "metadata": {
            "tags": []
          },
          "execution_count": 55
        },
        {
          "output_type": "display_data",
          "data": {
            "image/png": "[encoded data removed]",
            "text/plain": [
              "<Figure size 1440x1440 with 1 Axes>"
            ]
          },
          "metadata": {
            "tags": [],
            "needs_background": "light"
          }
        }
      ]
    },
    {
      "cell_type": "markdown",
      "metadata": {
        "id": "fWwoQlXKznRZ"
      },
      "source": [
        "**Item 08**  \n",
        "- Quais são as 10 maiores causas de acidentes?"
      ]
    },
    {
      "cell_type": "code",
      "metadata": {
        "id": "-35tWjUwznRa",
        "colab": {
          "base_uri": "https://localhost:8080/"
        },
        "outputId": "de4edba5-e213-45c8-8fb7-df0317effa19"
      },
      "source": [
        "aux = df['causa_acidente'].value_counts().sort_values()\n",
        "\n",
        "print(aux.tail(10))"
      ],
      "execution_count": 4,
      "outputs": [
        {
          "output_type": "stream",
          "text": [
            "Animais na Pista                                      1614\n",
            "Falta de Atenção do Pedestre                          2073\n",
            "Pista Escorregadia                                    2549\n",
            "Condutor Dormindo                                     2633\n",
            "Defeito Mecânico no Veículo                           3716\n",
            "Não guardar distância de segurança                    4262\n",
            "Ingestão de Álcool                                    5201\n",
            "Velocidade Incompatível                               6849\n",
            "Desobediência às normas de trânsito pelo condutor     7189\n",
            "Falta de Atenção à Condução                          25830\n",
            "Name: causa_acidente, dtype: int64\n"
          ],
          "name": "stdout"
        }
      ]
    },
    {
      "cell_type": "markdown",
      "metadata": {
        "id": "e-f_MzBVznRa"
      },
      "source": [
        "**Item 09**  \n",
        "- Em que estado ocorre o maior núemro de acidentes em que a causa foi animais na pista?"
      ]
    },
    {
      "cell_type": "code",
      "metadata": {
        "id": "oblh2D8zznRa",
        "colab": {
          "base_uri": "https://localhost:8080/"
        },
        "outputId": "b23054c4-405f-4bde-a303-aeb65283bc4a"
      },
      "source": [
        "idx = df['causa_acidente'] == 'Animais na Pista'\n",
        "\n",
        "print(df[idx]['uf'].value_counts().head(1))"
      ],
      "execution_count": null,
      "outputs": [
        {
          "output_type": "stream",
          "text": [
            "MG    198\n",
            "Name: uf, dtype: int64\n"
          ],
          "name": "stdout"
        }
      ]
    },
    {
      "cell_type": "markdown",
      "metadata": {
        "id": "Fa11S0JmznRa"
      },
      "source": [
        "**Item 10**  \n",
        "- Em Cascavel, no Paraná, qual são as rodovias que existem na base de dados?"
      ]
    },
    {
      "cell_type": "code",
      "metadata": {
        "id": "g1Vr3FXRznRa",
        "colab": {
          "base_uri": "https://localhost:8080/"
        },
        "outputId": "5df4d823-f73b-44b2-b57e-8cfcd45be3bd"
      },
      "source": [
        "idx = df['municipio'] == 'CASCAVEL'\n",
        "\n",
        "print('As BRs são:',df[idx]['br'].unique())"
      ],
      "execution_count": null,
      "outputs": [
        {
          "output_type": "stream",
          "text": [
            "As BRs são: [277. 467. 369.  nan 163. 116.]\n"
          ],
          "name": "stdout"
        }
      ]
    },
    {
      "cell_type": "markdown",
      "metadata": {
        "id": "9KK3gDrmznRa"
      },
      "source": [
        "**Item 11**  \n",
        "- Em Cascavel, no Paraná, qual é a rodovia que mais possui acidentes?"
      ]
    },
    {
      "cell_type": "code",
      "metadata": {
        "id": "IF4l80ZcznRb",
        "colab": {
          "base_uri": "https://localhost:8080/"
        },
        "outputId": "fefded28-2b96-4c9e-bb13-adf287c6a01b"
      },
      "source": [
        "idx = df['municipio'] == 'CASCAVEL'\n",
        "\n",
        "print('A BR mais perigosa de cascavel é: ',df[idx]['br'].value_counts().head(1))"
      ],
      "execution_count": 60,
      "outputs": [
        {
          "output_type": "stream",
          "text": [
            "A BR mais perigosa de cascavel é:  277.0    242\n",
            "Name: br, dtype: int64\n"
          ],
          "name": "stdout"
        }
      ]
    },
    {
      "cell_type": "markdown",
      "metadata": {
        "id": "fSQ0s0AUznRb"
      },
      "source": [
        "**Item 12**  \n",
        "- Em Cascavel, no Paraná, em qual kilômetro da rodovia BR 277 ocorreram o maior número de acidentes com vítimas fatais? Obs: por padrão a coluna `br` está com valores do tipo `float`. (`277.0`)."
      ]
    },
    {
      "cell_type": "code",
      "metadata": {
        "id": "EODTuagHznRb",
        "colab": {
          "base_uri": "https://localhost:8080/"
        },
        "outputId": "c3d0ba8e-bf31-49cb-8d7e-f7a2b2a8e59e"
      },
      "source": [
        "idx = df['municipio'] == 'CASCAVEL'\n",
        "idy = df['br'] == 277.0\n",
        "print('O KM mais perigoso de cascavel é: ',df[idx == idy]['km'].value_counts().head(1))"
      ],
      "execution_count": 62,
      "outputs": [
        {
          "output_type": "stream",
          "text": [
            "A BR mais perigosa de cascavel é:  1    262\n",
            "Name: km, dtype: int64\n"
          ],
          "name": "stdout"
        }
      ]
    },
    {
      "cell_type": "markdown",
      "metadata": {
        "id": "6Lz4xfvFznRb"
      },
      "source": [
        "**Item 13**  \n",
        "- Gere um gráfico apresentando os dias da semana em que ocorreram mais acidente por causa de Ingestão de Álcool.\n",
        "- Comente sobre o resultado obtido"
      ]
    },
    {
      "cell_type": "code",
      "metadata": {
        "id": "jKQFmy8gznRb",
        "colab": {
          "base_uri": "https://localhost:8080/",
          "height": 338
        },
        "outputId": "98422f28-e92d-4cc7-8bad-0b058f18306a"
      },
      "source": [
        "idx = df['causa_acidente'] == 'Ingestão de Álcool'\n",
        "idy = df[idx]['dia_semana'].value_counts()\n",
        "fig = plt.figure(figsize=(10,5))\n",
        "plt.plot(idy)"
      ],
      "execution_count": null,
      "outputs": [
        {
          "output_type": "execute_result",
          "data": {
            "text/plain": [
              "[<matplotlib.lines.Line2D at 0x7f7d45febe10>]"
            ]
          },
          "metadata": {
            "tags": []
          },
          "execution_count": 237
        },
        {
          "output_type": "display_data",
          "data": {
            "image/png": "[encoded data removed]",
            "text/plain": [
              "<Figure size 720x360 with 1 Axes>"
            ]
          },
          "metadata": {
            "tags": [],
            "needs_background": "light"
          }
        }
      ]
    },
    {
      "cell_type": "markdown",
      "metadata": {
        "id": "fqJzWFuBidGj"
      },
      "source": [
        "Grande parte dos acidentes envolvendo bebidas acontecem aos fins de semana e isso provavelmente se deve pois as pessoas trabalham durante semana e ao fim de semana vão \"curtir\" e acabam bebendo e dirigindo.\n",
        "\n"
      ]
    },
    {
      "cell_type": "markdown",
      "metadata": {
        "id": "ZYR4NaiEznRb"
      },
      "source": [
        "**Item 14**  \n",
        "- Apresente um gráfico que mostre a quantidade de acidentes de acordo com a condição meteorológica, subdividida de acordo com a fase do dia.\n",
        "- Explique o resultado obtido."
      ]
    },
    {
      "cell_type": "code",
      "metadata": {
        "id": "D0xRewyAznRb",
        "colab": {
          "base_uri": "https://localhost:8080/",
          "height": 530
        },
        "outputId": "9777bd9a-1dbb-434d-d8cb-ca4438aaeeae"
      },
      "source": [
        "\n",
        "\n",
        "x = df['fase_dia'].value_counts()\n",
        "y = df['fase_dia'].unique()\n",
        "aux2 = df['condicao_metereologica'].value_counts()\n",
        "x2 = df['condicao_metereologica'].value_counts()\n",
        "y2 = df['condicao_metereologica'].unique()\n",
        "\n",
        "\n",
        "fig = plt.figure(figsize=(20,10))  \n",
        "plt.bar(y,x)  \n",
        "plt.plot(y2,x2)  "
      ],
      "execution_count": null,
      "outputs": [
        {
          "output_type": "execute_result",
          "data": {
            "text/plain": [
              "[<matplotlib.lines.Line2D at 0x7f7d478a1990>]"
            ]
          },
          "metadata": {
            "tags": []
          },
          "execution_count": 235
        },
        {
          "output_type": "display_data",
          "data": {
            "image/png": "[encoded data removed]",
            "text/plain": [
              "<Figure size 1440x720 with 1 Axes>"
            ]
          },
          "metadata": {
            "tags": [],
            "needs_background": "light"
          }
        }
      ]
    },
    {
      "cell_type": "markdown",
      "metadata": {
        "id": "4js5OFaIh5Hc"
      },
      "source": [
        "Com esse resultado podemos concluir que grande parte dos acidentes ocorrem a noite e com o tempo nublado, e isso provavelmente se deve graças a baixa visibilidade nessas ocasiões."
      ]
    },
    {
      "cell_type": "markdown",
      "metadata": {
        "id": "1uOFw9xPznRc"
      },
      "source": [
        "**Item 15**  \n",
        "- Realize uma outra análise utilizando algum critério elaborado por você, e explique o resultado obtido."
      ]
    },
    {
      "cell_type": "code",
      "metadata": {
        "id": "yvtHpkVaznRc",
        "colab": {
          "base_uri": "https://localhost:8080/",
          "height": 283
        },
        "outputId": "74db3ffb-1056-49d1-beaa-2d7497509396"
      },
      "source": [
        "aux = df['horario'].value_counts().head()\n",
        "\n",
        "plt.plot(aux)"
      ],
      "execution_count": null,
      "outputs": [
        {
          "output_type": "execute_result",
          "data": {
            "text/plain": [
              "[<matplotlib.lines.Line2D at 0x7f7d42ba9bd0>]"
            ]
          },
          "metadata": {
            "tags": []
          },
          "execution_count": 249
        },
        {
          "output_type": "display_data",
          "data": {
            "image/png": "[encoded data removed]",
            "text/plain": [
              "<Figure size 432x288 with 1 Axes>"
            ]
          },
          "metadata": {
            "tags": [],
            "needs_background": "light"
          }
        }
      ]
    },
    {
      "cell_type": "markdown",
      "metadata": {
        "id": "RnAfFcHrkpEb"
      },
      "source": [
        "Fiz essa analise com intuito de vermos quais são os horarios em que mais ocorrem acidentes, e visto o resultado obtido conseguimos concluir que em sua grande parte ocorrem entre as 18h e 19h, provavelmente pois nesses horarios há mais trafegos nas rodovias graças ao fim do expediente de muitas empresas serem próximos disso."
      ]
    }
  ]
}